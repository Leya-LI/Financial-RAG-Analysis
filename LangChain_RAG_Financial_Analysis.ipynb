{
 "cells": [
  {
   "cell_type": "markdown",
   "metadata": {},
   "source": [
    "# Prerequisites"
   ]
  },
  {
   "cell_type": "markdown",
   "metadata": {},
   "source": [
    "##### Install all the needed dependencies"
   ]
  },
  {
   "cell_type": "code",
   "execution_count": 1,
   "metadata": {},
   "outputs": [
    {
     "name": "stdout",
     "output_type": "stream",
     "text": [
      "Note: you may need to restart the kernel to use updated packages.\n"
     ]
    }
   ],
   "source": [
    "%pip install --upgrade --quiet  langchain langchain-core langchain-community langchain-text-splitters langchain-milvus langchain-openai sec-api\n"
   ]
  },
  {
   "cell_type": "markdown",
   "metadata": {},
   "source": [
    "# Data Extraction and Preprocessing"
   ]
  },
  {
   "cell_type": "code",
   "execution_count": 1,
   "metadata": {},
   "outputs": [
    {
     "name": "stdout",
     "output_type": "stream",
     "text": [
      "Collecting sec-api\n",
      "  Downloading sec_api-1.0.25-py3-none-any.whl.metadata (51 kB)\n",
      "Requirement already satisfied: requests in c:\\users\\asus\\appdata\\local\\programs\\python\\python312\\lib\\site-packages (from sec-api) (2.32.3)\n",
      "Requirement already satisfied: charset-normalizer<4,>=2 in c:\\users\\asus\\appdata\\local\\programs\\python\\python312\\lib\\site-packages (from requests->sec-api) (3.4.0)\n",
      "Requirement already satisfied: idna<4,>=2.5 in c:\\users\\asus\\appdata\\local\\programs\\python\\python312\\lib\\site-packages (from requests->sec-api) (3.10)\n",
      "Requirement already satisfied: urllib3<3,>=1.21.1 in c:\\users\\asus\\appdata\\local\\programs\\python\\python312\\lib\\site-packages (from requests->sec-api) (2.2.3)\n",
      "Requirement already satisfied: certifi>=2017.4.17 in c:\\users\\asus\\appdata\\local\\programs\\python\\python312\\lib\\site-packages (from requests->sec-api) (2024.8.30)\n",
      "Downloading sec_api-1.0.25-py3-none-any.whl (19 kB)\n",
      "Installing collected packages: sec-api\n",
      "Successfully installed sec-api-1.0.25\n",
      "Note: you may need to restart the kernel to use updated packages.\n"
     ]
    }
   ],
   "source": [
    "%pip install sec-api"
   ]
  },
  {
   "cell_type": "markdown",
   "metadata": {},
   "source": [
    "##### https://sec-api.io\n",
    "##### Using this API key to extract the filings from the SEC"
   ]
  },
  {
   "cell_type": "code",
   "execution_count": 1,
   "metadata": {},
   "outputs": [],
   "source": [
    "from sec_api import XbrlApi"
   ]
  },
  {
   "cell_type": "code",
   "execution_count": 2,
   "metadata": {},
   "outputs": [],
   "source": [
    "xbrlApi = XbrlApi(\"Your-API-Key\") #Replace with your API Key\n",
    "htm_url=\"<https://www.sec.gov/ix?doc=/Archives/edgar/data/320193/000032019324000123/aapl-20240928.htm>\" \n",
    "xbrl_json = xbrlApi.xbrl_to_json(htm_url=htm_url)"
   ]
  },
  {
   "cell_type": "markdown",
   "metadata": {},
   "source": [
    "##### We want only the ‘Cover Page’ section:"
   ]
  },
  {
   "cell_type": "code",
   "execution_count": 3,
   "metadata": {},
   "outputs": [
    {
     "name": "stdout",
     "output_type": "stream",
     "text": [
      "['DocumentType: 10-K\\\\n', 'DocumentAnnualReport: true\\\\n', 'CurrentFiscalYearEndDate: --09-28\\\\n', 'DocumentPeriodEndDate: 2024-09-28\\\\n', 'DocumentTransitionReport: false\\\\n', 'EntityFileNumber: 001-36743\\\\n', 'EntityRegistrantName: Apple Inc.\\\\n', 'EntityIncorporationStateCountryCode: CA\\\\n', 'EntityTaxIdentificationNumber: 94-2404110\\\\n', 'EntityAddressAddressLine1: One Apple Park Way\\\\n', 'EntityAddressCityOrTown: Cupertino\\\\n', 'EntityAddressStateOrProvince: CA\\\\n', 'EntityAddressPostalZipCode: 95014\\\\n', 'CityAreaCode: 408\\\\n', 'LocalPhoneNumber: 996-1010\\\\n', \"Security12bTitle: [{'period': {'startDate': '2023-10-01', 'endDate': '2024-09-28'}, 'segment': {'dimension': 'us-gaap:StatementClassOfStockAxis', 'value': 'us-gaap:CommonStockMember'}, 'value': 'Common Stock, $0.00001 par value per share'}, {'period': {'startDate': '2023-10-01', 'endDate': '2024-09-28'}, 'segment': {'dimension': 'us-gaap:StatementClassOfStockAxis', 'value': 'aapl:A0.000Notesdue2025Member'}, 'value': '0.000% Notes due 2025'}, {'period': {'startDate': '2023-10-01', 'endDate': '2024-09-28'}, 'segment': {'dimension': 'us-gaap:StatementClassOfStockAxis', 'value': 'aapl:A0.875NotesDue2025Member'}, 'value': '0.875% Notes due 2025'}, {'period': {'startDate': '2023-10-01', 'endDate': '2024-09-28'}, 'segment': {'dimension': 'us-gaap:StatementClassOfStockAxis', 'value': 'aapl:A1.625NotesDue2026Member'}, 'value': '1.625% Notes due 2026'}, {'period': {'startDate': '2023-10-01', 'endDate': '2024-09-28'}, 'segment': {'dimension': 'us-gaap:StatementClassOfStockAxis', 'value': 'aapl:A2.000NotesDue2027Member'}, 'value': '2.000% Notes due 2027'}, {'period': {'startDate': '2023-10-01', 'endDate': '2024-09-28'}, 'segment': {'dimension': 'us-gaap:StatementClassOfStockAxis', 'value': 'aapl:A1.375NotesDue2029Member'}, 'value': '1.375% Notes due 2029'}, {'period': {'startDate': '2023-10-01', 'endDate': '2024-09-28'}, 'segment': {'dimension': 'us-gaap:StatementClassOfStockAxis', 'value': 'aapl:A3.050NotesDue2029Member'}, 'value': '3.050% Notes due 2029'}, {'period': {'startDate': '2023-10-01', 'endDate': '2024-09-28'}, 'segment': {'dimension': 'us-gaap:StatementClassOfStockAxis', 'value': 'aapl:A0.500Notesdue2031Member'}, 'value': '0.500% Notes due 2031'}, {'period': {'startDate': '2023-10-01', 'endDate': '2024-09-28'}, 'segment': {'dimension': 'us-gaap:StatementClassOfStockAxis', 'value': 'aapl:A3.600NotesDue2042Member'}, 'value': '3.600% Notes due 2042'}]\\\\n\", \"TradingSymbol: {'period': {'startDate': '2023-10-01', 'endDate': '2024-09-28'}, 'segment': {'dimension': 'us-gaap:StatementClassOfStockAxis', 'value': 'us-gaap:CommonStockMember'}, 'value': 'AAPL'}\\\\n\", \"NoTradingSymbolFlag: [{'period': {'startDate': '2023-10-01', 'endDate': '2024-09-28'}, 'segment': {'dimension': 'us-gaap:StatementClassOfStockAxis', 'value': 'aapl:A0.000Notesdue2025Member'}, 'value': 'true'}, {'period': {'startDate': '2023-10-01', 'endDate': '2024-09-28'}, 'segment': {'dimension': 'us-gaap:StatementClassOfStockAxis', 'value': 'aapl:A0.875NotesDue2025Member'}, 'value': 'true'}, {'period': {'startDate': '2023-10-01', 'endDate': '2024-09-28'}, 'segment': {'dimension': 'us-gaap:StatementClassOfStockAxis', 'value': 'aapl:A1.625NotesDue2026Member'}, 'value': 'true'}, {'period': {'startDate': '2023-10-01', 'endDate': '2024-09-28'}, 'segment': {'dimension': 'us-gaap:StatementClassOfStockAxis', 'value': 'aapl:A2.000NotesDue2027Member'}, 'value': 'true'}, {'period': {'startDate': '2023-10-01', 'endDate': '2024-09-28'}, 'segment': {'dimension': 'us-gaap:StatementClassOfStockAxis', 'value': 'aapl:A1.375NotesDue2029Member'}, 'value': 'true'}, {'period': {'startDate': '2023-10-01', 'endDate': '2024-09-28'}, 'segment': {'dimension': 'us-gaap:StatementClassOfStockAxis', 'value': 'aapl:A3.050NotesDue2029Member'}, 'value': 'true'}, {'period': {'startDate': '2023-10-01', 'endDate': '2024-09-28'}, 'segment': {'dimension': 'us-gaap:StatementClassOfStockAxis', 'value': 'aapl:A0.500Notesdue2031Member'}, 'value': 'true'}, {'period': {'startDate': '2023-10-01', 'endDate': '2024-09-28'}, 'segment': {'dimension': 'us-gaap:StatementClassOfStockAxis', 'value': 'aapl:A3.600NotesDue2042Member'}, 'value': 'true'}]\\\\n\", \"SecurityExchangeName: [{'period': {'startDate': '2023-10-01', 'endDate': '2024-09-28'}, 'segment': {'dimension': 'us-gaap:StatementClassOfStockAxis', 'value': 'us-gaap:CommonStockMember'}, 'value': 'NASDAQ'}, {'period': {'startDate': '2023-10-01', 'endDate': '2024-09-28'}, 'segment': {'dimension': 'us-gaap:StatementClassOfStockAxis', 'value': 'aapl:A0.000Notesdue2025Member'}, 'value': 'NASDAQ'}, {'period': {'startDate': '2023-10-01', 'endDate': '2024-09-28'}, 'segment': {'dimension': 'us-gaap:StatementClassOfStockAxis', 'value': 'aapl:A0.875NotesDue2025Member'}, 'value': 'NASDAQ'}, {'period': {'startDate': '2023-10-01', 'endDate': '2024-09-28'}, 'segment': {'dimension': 'us-gaap:StatementClassOfStockAxis', 'value': 'aapl:A1.625NotesDue2026Member'}, 'value': 'NASDAQ'}, {'period': {'startDate': '2023-10-01', 'endDate': '2024-09-28'}, 'segment': {'dimension': 'us-gaap:StatementClassOfStockAxis', 'value': 'aapl:A2.000NotesDue2027Member'}, 'value': 'NASDAQ'}, {'period': {'startDate': '2023-10-01', 'endDate': '2024-09-28'}, 'segment': {'dimension': 'us-gaap:StatementClassOfStockAxis', 'value': 'aapl:A1.375NotesDue2029Member'}, 'value': 'NASDAQ'}, {'period': {'startDate': '2023-10-01', 'endDate': '2024-09-28'}, 'segment': {'dimension': 'us-gaap:StatementClassOfStockAxis', 'value': 'aapl:A3.050NotesDue2029Member'}, 'value': 'NASDAQ'}, {'period': {'startDate': '2023-10-01', 'endDate': '2024-09-28'}, 'segment': {'dimension': 'us-gaap:StatementClassOfStockAxis', 'value': 'aapl:A0.500Notesdue2031Member'}, 'value': 'NASDAQ'}, {'period': {'startDate': '2023-10-01', 'endDate': '2024-09-28'}, 'segment': {'dimension': 'us-gaap:StatementClassOfStockAxis', 'value': 'aapl:A3.600NotesDue2042Member'}, 'value': 'NASDAQ'}]\\\\n\", 'EntityWellKnownSeasonedIssuer: Yes\\\\n', 'EntityVoluntaryFilers: No\\\\n', 'EntityCurrentReportingStatus: Yes\\\\n', 'EntityInteractiveDataCurrent: Yes\\\\n', 'EntityFilerCategory: Large Accelerated Filer\\\\n', 'EntitySmallBusiness: false\\\\n', 'EntityEmergingGrowthCompany: false\\\\n', 'IcfrAuditorAttestationFlag: true\\\\n', 'DocumentFinStmtErrorCorrectionFlag: false\\\\n', 'EntityShellCompany: false\\\\n', \"EntityPublicFloat: {'decimals': '-6', 'unitRef': 'usd', 'period': {'instant': '2024-03-29'}, 'value': '2628553000000'}\\\\n\", \"EntityCommonStockSharesOutstanding: {'decimals': '-3', 'unitRef': 'shares', 'period': {'instant': '2024-10-18'}, 'value': '15115823000'}\\\\n\", 'DocumentsIncorporatedByReferenceTextBlock: <div style=\"margin-top:3pt;text-align:justify\"><span style=\"color:#000000;font-family:\\'Helvetica\\',sans-serif;font-size:8pt;font-weight:400;line-height:120%\">Portions of the Registrant’s definitive proxy statement relating to its 2025 annual meeting of shareholders are incorporated by reference into Part III of this Annual Report on Form 10-K where indicated. The Registrant’s definitive proxy statement will be filed with the U.S. Securities and Exchange Commission within 120 days after the end of the fiscal year to which this report relates.</span></div>\\\\n', 'AmendmentFlag: false\\\\n', 'DocumentFiscalYearFocus: 2024\\\\n', 'DocumentFiscalPeriodFocus: FY\\\\n', 'EntityCentralIndexKey: 0000320193\\\\n']\n"
     ]
    }
   ],
   "source": [
    "xbrl_json=xbrlApi.xbrl_to_json(htm_url=htm_url)   \n",
    "result = [f\"{key}: {value}\\\\n\" for key, value in xbrl_json[\"CoverPage\"].items()]\n",
    "print(result)"
   ]
  },
  {
   "cell_type": "markdown",
   "metadata": {},
   "source": [
    "# Building a RAG pipeline"
   ]
  },
  {
   "cell_type": "markdown",
   "metadata": {},
   "source": [
    "### Data Ingestion with the text splitting:"
   ]
  },
  {
   "cell_type": "code",
   "execution_count": 4,
   "metadata": {},
   "outputs": [],
   "source": [
    "from langchain.text_splitter import Language, RecursiveCharacterTextSplitter"
   ]
  },
  {
   "cell_type": "code",
   "execution_count": 5,
   "metadata": {},
   "outputs": [],
   "source": [
    "class SimpleDocument:\n",
    "    def __init__(self, content):\n",
    "        self.page_content = content\n",
    "        self.metadata = {}  # Initialize metadata attribute with an empty dictionary as its default value\n",
    "\n",
    "from langchain_text_splitters import RecursiveCharacterTextSplitter\n",
    "\n",
    "# Concatenate all strings in the result list into a single long string\n",
    "long_text = \"\".join(result)\n",
    "text_splitter = RecursiveCharacterTextSplitter(chunk_size=1000, chunk_overlap=200)\n",
    "simple_doc = SimpleDocument(long_text)\n",
    "texts = text_splitter.split_documents([simple_doc]) "
   ]
  },
  {
   "cell_type": "markdown",
   "metadata": {},
   "source": [
    "### Create Embeddings:"
   ]
  },
  {
   "cell_type": "code",
   "execution_count": 6,
   "metadata": {},
   "outputs": [],
   "source": [
    "from langchain_openai import OpenAIEmbeddings\n",
    "embeddings = OpenAIEmbeddings()"
   ]
  },
  {
   "cell_type": "markdown",
   "metadata": {},
   "source": [
    "### Store the embeddings in the Milvus DB:"
   ]
  },
  {
   "cell_type": "code",
   "execution_count": 8,
   "metadata": {},
   "outputs": [],
   "source": [
    "from langchain_milvus import Milvus\n",
    "\n",
    "vectorstore = Milvus.from_documents(  \n",
    "    documents=texts,\n",
    "    embedding=embeddings,\n",
    "    connection_args={\n",
    "        \"uri\": \"http://localhost:19530\",\n",
    "    },\n",
    "    drop_old=True,  # Drop the old Milvus collection if it exists\n",
    ")\n"
   ]
  },
  {
   "cell_type": "markdown",
   "metadata": {},
   "source": [
    "### Loading the Language Model:"
   ]
  },
  {
   "cell_type": "code",
   "execution_count": 19,
   "metadata": {},
   "outputs": [
    {
     "data": {
      "text/plain": [
       "[Document(metadata={'pk': 454737724161656766}, page_content=\"DocumentType: 10-K\\\\nDocumentAnnualReport: true\\\\nCurrentFiscalYearEndDate: --09-28\\\\nDocumentPeriodEndDate: 2024-09-28\\\\nDocumentTransitionReport: false\\\\nEntityFileNumber: 001-36743\\\\nEntityRegistrantName: Apple Inc.\\\\nEntityIncorporationStateCountryCode: CA\\\\nEntityTaxIdentificationNumber: 94-2404110\\\\nEntityAddressAddressLine1: One Apple Park Way\\\\nEntityAddressCityOrTown: Cupertino\\\\nEntityAddressStateOrProvince: CA\\\\nEntityAddressPostalZipCode: 95014\\\\nCityAreaCode: 408\\\\nLocalPhoneNumber: 996-1010\\\\nSecurity12bTitle: [{'period': {'startDate': '2023-10-01', 'endDate': '2024-09-28'}, 'segment': {'dimension': 'us-gaap:StatementClassOfStockAxis', 'value': 'us-gaap:CommonStockMember'}, 'value': 'Common Stock, $0.00001 par value per share'}, {'period': {'startDate': '2023-10-01', 'endDate': '2024-09-28'}, 'segment': {'dimension': 'us-gaap:StatementClassOfStockAxis', 'value': 'aapl:A0.000Notesdue2025Member'}, 'value': '0.000% Notes due 2025'}, {'period': {'startDate': '2023-10-01', 'endDate':\")]"
      ]
     },
     "execution_count": 19,
     "metadata": {},
     "output_type": "execute_result"
    }
   ],
   "source": [
    "query = \"Please summarize the 10-K of Apple to stakeholders.\"\n",
    "vectorstore.similarity_search(query, k=1)"
   ]
  },
  {
   "cell_type": "code",
   "execution_count": 20,
   "metadata": {},
   "outputs": [],
   "source": [
    "from langchain_core.runnables import RunnablePassthrough\n",
    "from langchain_core.prompts import PromptTemplate\n",
    "from langchain_core.output_parsers import StrOutputParser\n",
    "from langchain_openai import ChatOpenAI\n",
    "\n",
    "llm = ChatOpenAI(model_name=\"gpt-3.5-turbo\", temperature=0)\n",
    "\n",
    "\n",
    "\n",
    "PROMPT_TEMPLATE = \"\"\"\n",
    "Human: You are an AI assistant, and provides answers to questions by using fact based and statistical information when possible.\n",
    "Use the following pieces of information to provide a concise answer to the question enclosed in <question> tags.\n",
    "If you don't know the answer, just say that you don't know, don't try to make up an answer.\n",
    "<context>\n",
    "{context}\n",
    "</context>\n",
    "\n",
    "<question>\n",
    "{question}\n",
    "</question>\n",
    "\n",
    "The response should be specific and use statistics or numbers when possible.\n",
    "\n",
    "Assistant:\"\"\"\n",
    "\n",
    "prompt = PromptTemplate(\n",
    "    template=PROMPT_TEMPLATE, input_variables=[\"context\", \"question\"]\n",
    ")\n",
    "retriever = vectorstore.as_retriever()\n",
    "\n",
    "\n",
    "def format_docs(docs):\n",
    "    return \"\\n\\n\".join(doc.page_content for doc in docs)\n",
    "\n"
   ]
  },
  {
   "cell_type": "code",
   "execution_count": 21,
   "metadata": {},
   "outputs": [
    {
     "data": {
      "text/plain": [
       "\"The 10-K of Apple for the fiscal year ending on September 28, 2024, shows that the company is a Large Accelerated Filer and a well-known seasoned issuer. Apple's common stock shares outstanding as of October 18, 2024, were 15,115,823,000. The company's public float was valued at $2,628,553,000,000 as of March 29, 2024. Apple's financial statements did not have any error corrections, and the auditor attested to the effectiveness of the company's internal control over financial reporting. The 10-K also includes information about the company's securities listed on NASDAQ and the incorporation of proxy statement details for the 2025 annual meeting of shareholders.\""
      ]
     },
     "execution_count": 21,
     "metadata": {},
     "output_type": "execute_result"
    }
   ],
   "source": [
    "rag_chain = (\n",
    "    {\"context\": retriever | format_docs, \"question\": RunnablePassthrough()}\n",
    "    | prompt\n",
    "    | llm\n",
    "    | StrOutputParser()\n",
    ")\n",
    "\n",
    "\n",
    "res = rag_chain.invoke(query)\n",
    "res\n"
   ]
  }
 ],
 "metadata": {
  "kernelspec": {
   "display_name": "Python 3",
   "language": "python",
   "name": "python3"
  },
  "language_info": {
   "codemirror_mode": {
    "name": "ipython",
    "version": 3
   },
   "file_extension": ".py",
   "mimetype": "text/x-python",
   "name": "python",
   "nbconvert_exporter": "python",
   "pygments_lexer": "ipython3",
   "version": "3.12.2"
  }
 },
 "nbformat": 4,
 "nbformat_minor": 2
}
